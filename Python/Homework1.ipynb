{
 "cells": [
  {
   "cell_type": "code",
   "execution_count": 265,
   "metadata": {},
   "outputs": [
    {
     "name": "stdout",
     "output_type": "stream",
     "text": [
      "[4, 6, 8, 10, 12, 14, 16, 18, 20, 22, 24, 26, 28, 30, 32, 34, 36, 38, 40, 42, 44, 46, 48, 50, 52, 54, 56, 58, 60, 62, 64, 66, 68, 70, 72, 74, 76, 78, 80, 82, 84, 86, 88, 90, 92, 94, 96, 98, 100, 9, 12, 15, 18, 21, 24, 27, 30, 33, 36, 39, 42, 45, 48, 51, 54, 57, 60, 63, 66, 69, 72, 75, 78, 81, 84, 87, 90, 93, 96, 99, 16, 20, 24, 28, 32, 36, 40, 44, 48, 52, 56, 60, 64, 68, 72, 76, 80, 84, 88, 92, 96, 100, 25, 30, 35, 40, 45, 50, 55, 60, 65, 70, 75, 80, 85, 90, 95, 100, 36, 42, 48, 54, 60, 66, 72, 78, 84, 90, 96, 49, 56, 63, 70, 77, 84, 91, 98, 64, 72, 80, 88, 96, 81, 90, 99, 100]\n",
      "[2, 3, 4, 5, 6, 7, 8, 9, 10, 11, 12, 13, 14, 15, 16, 17, 18, 19, 20, 21, 22, 23, 24, 25, 26, 27, 28, 29, 30, 31, 32, 33, 34, 35, 36, 37, 38, 39, 40, 41, 42, 43, 44, 45, 46, 47, 48, 49, 50, 51, 52, 53, 54, 55, 56, 57, 58, 59, 60, 61, 62, 63, 64, 65, 66, 67, 68, 69, 70, 71, 72, 73, 74, 75, 76, 77, 78, 79, 80, 81, 82, 83, 84, 85, 86, 87, 88, 89, 90, 91, 92, 93, 94, 95, 96, 97, 98, 99, 100]\n",
      "[2, 3, 5, 7, 11, 13, 17, 19, 23, 29, 31, 37, 41, 43, 47, 53, 59, 61, 67, 71, 73, 79, 83, 89, 97]\n",
      "25\n"
     ]
    }
   ],
   "source": [
    "n=100\n",
    "x=list(range(2,n+1))\n",
    "k=[]\n",
    "for i in range(2,n+1):\n",
    "        for j in range(i,n+1):\n",
    "            if i*j>(n+1):\n",
    "                break\n",
    "            k.append(i*j)\n",
    "print(k)\n",
    "print(x)\n",
    "def Diff(x,k):\n",
    "    return (list(set(x)-set(k)))\n",
    "y=(Diff(x, k))\n",
    "y.sort()\n",
    "print(y)\n",
    "print(len(y))\n"
   ]
  },
  {
   "cell_type": "markdown",
   "metadata": {},
   "source": []
  },
  {
   "cell_type": "code",
   "execution_count": 212,
   "metadata": {},
   "outputs": [
    {
     "name": "stdout",
     "output_type": "stream",
     "text": [
      "[4, 6, 8, 10, 12]\n",
      "[4, 6, 8, 10, 12]\n",
      "[4, 6, 8, 10, 12]\n",
      "[4, 6, 8, 10, 12]\n",
      "[4, 6, 8, 10, 12]\n"
     ]
    }
   ],
   "source": []
  },
  {
   "cell_type": "code",
   "execution_count": 230,
   "metadata": {},
   "outputs": [
    {
     "name": "stdout",
     "output_type": "stream",
     "text": [
      "[1, 2, 3, 4, 5, 6, 7, 8, 9, 10]\n",
      "[4, 6, 8, 10]\n"
     ]
    }
   ],
   "source": [
    "n=10\n",
    "x=list(range(1,n+1))\n",
    "print(x)\n",
    "k=[]\n",
    "for i in range(2,n+1):\n",
    "        for j in range(i,n+1):  \n",
    "            if i*j>(n+1):\n",
    "                 break \n",
    "            k.append(i*j)\n",
    "           \n",
    "        break\n",
    "                    \n",
    "                    \n",
    "print(k)\n",
    "                \n",
    "\n",
    "       \n",
    "            \n",
    "            \n",
    "            \n",
    " \n",
    "\n",
    "\n",
    "       "
   ]
  },
  {
   "cell_type": "code",
   "execution_count": null,
   "metadata": {},
   "outputs": [],
   "source": []
  }
 ],
 "metadata": {
  "kernelspec": {
   "display_name": "Python 3",
   "language": "python",
   "name": "python3"
  },
  "language_info": {
   "codemirror_mode": {
    "name": "ipython",
    "version": 3
   },
   "file_extension": ".py",
   "mimetype": "text/x-python",
   "name": "python",
   "nbconvert_exporter": "python",
   "pygments_lexer": "ipython3",
   "version": "3.7.4"
  }
 },
 "nbformat": 4,
 "nbformat_minor": 4
}
