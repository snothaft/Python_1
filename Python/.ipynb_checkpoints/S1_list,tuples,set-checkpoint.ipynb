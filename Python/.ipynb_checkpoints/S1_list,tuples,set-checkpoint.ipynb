{
 "cells": [
  {
   "cell_type": "code",
   "execution_count": 9,
   "metadata": {
    "pycharm": {
     "is_executing": false
    }
   },
   "outputs": [
    {
     "traceback": [
      "\u001b[0;31m---------------------------------------------------------------------------\u001b[0m",
      "\u001b[0;31mNameError\u001b[0m                                 Traceback (most recent call last)",
      "\u001b[0;32m<ipython-input-9-36fa9629abf9>\u001b[0m in \u001b[0;36m<module>\u001b[0;34m\u001b[0m\n\u001b[0;32m----> 1\u001b[0;31m \u001b[0mlsmagic\u001b[0m\u001b[0;34m\u001b[0m\u001b[0;34m\u001b[0m\u001b[0m\n\u001b[0m\u001b[1;32m      2\u001b[0m \u001b[0;34m\u001b[0m\u001b[0m\n\u001b[1;32m      3\u001b[0m \u001b[0;34m\u001b[0m\u001b[0m\n",
      "\u001b[0;31mNameError\u001b[0m: name 'lsmagic' is not defined"
     ],
     "ename": "NameError",
     "evalue": "name 'lsmagic' is not defined",
     "output_type": "error"
    }
   ],
   "source": [
    "lsmagic\n"
   ]
  },
  {
   "cell_type": "code",
   "execution_count": null,
   "metadata": {
    "pycharm": {
     "is_executing": false
    }
   },
   "outputs": [],
   "source": [
    "#defining a list\n"
   ]
  },
  {
   "cell_type": "code",
   "execution_count": null,
   "metadata": {
    "pycharm": {
     "is_executing": false
    }
   },
   "outputs": [],
   "source": [
    "#defining a list\n",
    "x=[1,2,3,4,5]\n",
    "for i in x:\n",
    "    print(i)"
   ]
  },
  {
   "cell_type": "code",
   "execution_count": 10,
   "metadata": {
    "pycharm": {
     "is_executing": false
    }
   },
   "outputs": [
    {
     "name": "stdout",
     "text": [
      "1\n2\n3\n4\n5\n[1, 2, 3, 4]\n[848, 293, 238, 34]\n4\n[848, 293, 238, 34, 234, 234, 546]\n"
     ],
     "output_type": "stream"
    }
   ],
   "source": [
    "#defining a list\n",
    "x=[1,2,3,4,5]\n",
    "for i in x:\n",
    "    print(i)\n",
    "y=x[:4]\n",
    "print(y)\n",
    "z=[34, 848, 293, 238]\n",
    "z.sort() #sorting the list and numbers stay in the list\n",
    "z\n",
    "z.sort(reverse=True)\n",
    "print(z)\n",
    "# checkin the length of a list: \n",
    "print(len(z))\n",
    "\n",
    "#adding numbers to list\n",
    "z.extend([234,234,546])\n",
    "print(z)"
   ]
  },
  {
   "cell_type": "code",
   "execution_count": 11,
   "metadata": {
    "pycharm": {
     "is_executing": false
    }
   },
   "outputs": [
    {
     "name": "stdout",
     "text": [
      "[1, 2, 3, 4, 5, [10, 9, 8]]\n1\n[10, 9, 8]\n9\n"
     ],
     "output_type": "stream"
    }
   ],
   "source": [
    "#Nested lists. Here we have a list of (10,9,8), as an element in another list\n",
    "x=[1,2,3,4,5]\n",
    "x.append([10,9,8])\n",
    "print(x)\n",
    "print(x[0])\n",
    "print(x[5])\n",
    "print(x[5][1])"
   ]
  },
  {
   "cell_type": "code",
   "execution_count": 12,
   "metadata": {
    "pycharm": {
     "is_executing": false
    }
   },
   "outputs": [
    {
     "name": "stdout",
     "text": [
      "(1, 2, 3)\n1\n2\n3\n56\n12243\n"
     ],
     "output_type": "stream"
    }
   ],
   "source": [
    "#tuples. are similar to lists but the structure cannot be changed once it is created \n",
    "k=(1,2,3)\n",
    "print(k)\n",
    "#you cannot extened it or have appened it. \n",
    "for i in k:\n",
    "    print(i)\n",
    "\n",
    "(age, income)=\"56,12243\".split(',') #we split the integers and decimals into two defined groups\n",
    "print(age)\n",
    "print(income)"
   ]
  },
  {
   "cell_type": "code",
   "execution_count": 13,
   "metadata": {
    "pycharm": {
     "is_executing": false
    }
   },
   "outputs": [
    {
     "name": "stdout",
     "text": [
      "{1, 2, 3}\n{1, 2, 3, 4, 6}\n"
     ],
     "output_type": "stream"
    }
   ],
   "source": [
    "#Sets. Does not have a sequences unlike a list. There is no odering, its random. & also it has only unique values, no dobule values\n",
    "#its a way to eliminate double values in a list. Turn it into a set\n",
    "a={1,2,3}\n",
    "print(a)\n",
    "b={1,3,2,4,6,1,2,3,4}\n",
    "print(b) #we can see that we only unique values with random order."
   ]
  },
  {
   "cell_type": "code",
   "execution_count": 14,
   "metadata": {
    "pycharm": {
     "is_executing": false
    }
   },
   "outputs": [
    {
     "name": "stdout",
     "text": [
      "World World\nHello\nSomething\nkey:Hello\nkey2:World\nkey3:Something\n"
     ],
     "output_type": "stream"
    }
   ],
   "source": [
    "#Dictionary (lists have indexes as numbers. in dictionaries we define our own indexes)\n",
    "#Requires that the key are unique otherwise searching doesnt work!!!! \n",
    "d={'key':'Hello','key2':'World'}\n",
    "d['key3']='Something' #extending\n",
    "print(d['key2']+\" \"+d['key2'])\n",
    "print(d.get('key'))\n",
    "print(d.get('key3'))\n",
    "\n",
    "for i in d.keys():\n",
    "    print(i+\":\" +d.get(i)) #We printing all the keys within the dictionary."
   ]
  },
  {
   "cell_type": "code",
   "execution_count": 15,
   "metadata": {
    "pycharm": {
     "is_executing": false
    }
   },
   "outputs": [
    {
     "traceback": [
      "\u001b[0;31m---------------------------------------------------------------------------\u001b[0m",
      "\u001b[0;31mFileNotFoundError\u001b[0m                         Traceback (most recent call last)",
      "\u001b[0;32m<ipython-input-15-bf6fa547a8d4>\u001b[0m in \u001b[0;36m<module>\u001b[0;34m\u001b[0m\n\u001b[1;32m      8\u001b[0m \u001b[0;34m\u001b[0m\u001b[0m\n\u001b[1;32m      9\u001b[0m \u001b[0mf\u001b[0m\u001b[0;34m=\u001b[0m\u001b[0;34m't.txt'\u001b[0m\u001b[0;34m\u001b[0m\u001b[0;34m\u001b[0m\u001b[0m\n\u001b[0;32m---> 10\u001b[0;31m \u001b[0;32mwith\u001b[0m \u001b[0mopen\u001b[0m\u001b[0;34m(\u001b[0m\u001b[0mf\u001b[0m\u001b[0;34m,\u001b[0m\u001b[0;34m'r'\u001b[0m\u001b[0;34m)\u001b[0m\u001b[0;32mas\u001b[0m \u001b[0minfile\u001b[0m\u001b[0;34m:\u001b[0m\u001b[0;34m\u001b[0m\u001b[0;34m\u001b[0m\u001b[0m\n\u001b[0m\u001b[1;32m     11\u001b[0m     \u001b[0mline\u001b[0m\u001b[0;34m=\u001b[0m\u001b[0minfile\u001b[0m\u001b[0;34m.\u001b[0m\u001b[0mreadline\u001b[0m\u001b[0;34m(\u001b[0m\u001b[0;34m)\u001b[0m\u001b[0;34m\u001b[0m\u001b[0;34m\u001b[0m\u001b[0m\n\u001b[1;32m     12\u001b[0m     \u001b[0;32mwhile\u001b[0m \u001b[0mline\u001b[0m\u001b[0;34m:\u001b[0m\u001b[0;34m\u001b[0m\u001b[0;34m\u001b[0m\u001b[0m\n",
      "\u001b[0;31mFileNotFoundError\u001b[0m: [Errno 2] No such file or directory: 't.txt'"
     ],
     "ename": "FileNotFoundError",
     "evalue": "[Errno 2] No such file or directory: 't.txt'",
     "output_type": "error"
    }
   ],
   "source": [
    "#Reading from a file\n",
    "#options: r, rb, w, wb. (r= read), (rb=read binary), (w=write), (wb=write binary)\n",
    "# if you store in binary form you usually need to know/have the encoding program to read. You need to know how \n",
    "# the objects are defined \n",
    "\n",
    "# if you store it in non-binary (textual format, usually pre-programmed conditions how to decode)\n",
    "#form it usually can be read as the file (i.e pdf)\n",
    "\n",
    "f='t.txt'\n",
    "with open(f,'r')as infile:\n",
    "    line=infile.readline()\n",
    "    while line:\n",
    "        line=infile.readline()\n",
    "        print(line)\n",
    "        line=infile.readline()\n",
    "        "
   ]
  },
  {
   "cell_type": "code",
   "execution_count": 16,
   "metadata": {
    "pycharm": {
     "is_executing": false
    }
   },
   "outputs": [],
   "source": [
    "f='out.txt'\n",
    "s='Hello World'\n",
    "with open(f, 'w') as outfile:\n",
    "    outfile.write(s)\n",
    "    "
   ]
  },
  {
   "cell_type": "code",
   "execution_count": null,
   "metadata": {
    "pycharm": {
     "is_executing": false
    }
   },
   "outputs": [],
   "source": [
    "f='outbin.txt'\n",
    "s='Hello World'\n",
    "with open(f,'wb') as outfile:\n",
    "    outfile.write(s.encode('utf-8'))"
   ]
  },
  {
   "cell_type": "code",
   "execution_count": null,
   "metadata": {
    "pycharm": {
     "is_executing": false
    }
   },
   "outputs": [],
   "source": [
    "#Pickle - dump an object to file\n",
    "import _pickle\n",
    "f='outdict.txt'\n",
    "with open(f, 'wb') as outfile:\n",
    "    _pickle.dump(d,outfile)"
   ]
  },
  {
   "cell_type": "code",
   "execution_count": null,
   "metadata": {
    "pycharm": {
     "is_executing": false
    }
   },
   "outputs": [],
   "source": [
    "with open(f, 'rb') as infile:\n",
    "    out_d=_pickle.load(infile)\n",
    "print(out_d)"
   ]
  },
  {
   "cell_type": "code",
   "execution_count": null,
   "metadata": {
    "pycharm": {
     "is_executing": false
    }
   },
   "outputs": [],
   "source": []
  }
 ],
 "metadata": {
  "kernelspec": {
   "display_name": "Python 3",
   "language": "python",
   "name": "python3"
  },
  "language_info": {
   "codemirror_mode": {
    "name": "ipython",
    "version": 3
   },
   "file_extension": ".py",
   "mimetype": "text/x-python",
   "name": "python",
   "nbconvert_exporter": "python",
   "pygments_lexer": "ipython3",
   "version": "3.7.4"
  }
 },
 "nbformat": 4,
 "nbformat_minor": 4
}